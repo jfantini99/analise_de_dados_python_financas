{
 "cells": [
  {
   "cell_type": "markdown",
   "id": "5ece3a25",
   "metadata": {},
   "source": [
    "# URL BASE\n",
    "\n",
    "https://dadosabertos.bcb.gov.br/dataset?res_format=API\n",
    "\n",
    "\n"
   ]
  },
  {
   "cell_type": "code",
   "execution_count": null,
   "id": "4838f7e9",
   "metadata": {},
   "outputs": [],
   "source": [
    "import requests\n",
    "import pandas as pd\n",
    "from pprint import pprint"
   ]
  },
  {
   "cell_type": "code",
   "execution_count": null,
   "id": "d5933c8a",
   "metadata": {},
   "outputs": [],
   "source": [
    "%pip install pprintpp"
   ]
  },
  {
   "cell_type": "code",
   "execution_count": null,
   "id": "509ed1e9",
   "metadata": {},
   "outputs": [],
   "source": [
    "pular = 0\n",
    "\n",
    "lista_dfs_moedas = []\n",
    "\n",
    "while True: \n",
    "    \n",
    "    url_base = f'''https://olinda.bcb.gov.br/olinda/servico/mecir_dinheiro_em_circulacao/versao/v1/odata/informacoes_diarias?$top=10000&$skip={pular}&$format=json'''                    \n",
    "    \n",
    "    response = requests.get(url_base)\n",
    "    \n",
    "    pular = pular + 10000\n",
    "\n",
    "    json_moedas = response.json()\n",
    "\n",
    "    df_moedas = pd.DataFrame(json_moedas['value'])\n",
    "    \n",
    "    lista_dfs_moedas.append(df_moedas)\n",
    "    \n",
    "    if len(json_moedas['value']) < 1:\n",
    "        \n",
    "        break\n",
    "    \n",
    "base_completa = pd.concat(lista_dfs_moedas)\n",
    "\n",
    "base_completa"
   ]
  },
  {
   "cell_type": "markdown",
   "id": "9cda40bf",
   "metadata": {},
   "source": [
    "Consultei os dados de moedas comemorativas\n",
    "Filtre as moedas mais raras, com menos de 100 unidades. "
   ]
  },
  {
   "cell_type": "code",
   "execution_count": null,
   "id": "c5056ca4",
   "metadata": {},
   "outputs": [],
   "source": [
    "\n",
    "\n",
    "pular = 0\n",
    "\n",
    "lista_df_moedas_comemorativas = []\n",
    "\n",
    "while True:\n",
    "    \n",
    "    url_base = f'''https://olinda.bcb.gov.br/olinda/servico/mecir_moedas_comemorativas/versao/v1/odata/informacoes_diarias?$top=10000&$skip={pular}&$format=json'''\n",
    "    \n",
    "    response_bc = requests.get(url_base)\n",
    "    \n",
    "    pular = pular + 10000\n",
    "    \n",
    "    json_moedas_comemorativas = response_bc.json()\n",
    "    \n",
    "    df_moedas_comemorativas = pd.DataFrame(json_moedas_comemorativas['value'])\n",
    "    \n",
    "    lista_df_moedas_comemorativas.append(df_moedas_comemorativas)\n",
    "    \n",
    "    if len(json_moedas_comemorativas['value']) < 1:\n",
    "        \n",
    "        break\n",
    "        \n",
    "moedas_comemorativas = pd.concat(lista_df_moedas_comemorativas)\n",
    "\n",
    "moedas_comemorativas"
   ]
  },
  {
   "cell_type": "code",
   "execution_count": null,
   "id": "cb2da937",
   "metadata": {},
   "outputs": [],
   "source": [
    "\n",
    "\n",
    "moedas_comemorativas[moedas_comemorativas['Quantidade'] < 100]\n"
   ]
  },
  {
   "cell_type": "code",
   "execution_count": null,
   "id": "978b86cc",
   "metadata": {},
   "outputs": [],
   "source": []
  },
  {
   "cell_type": "code",
   "execution_count": null,
   "id": "3f941657",
   "metadata": {},
   "outputs": [],
   "source": []
  },
  {
   "cell_type": "code",
   "execution_count": null,
   "id": "34121733",
   "metadata": {},
   "outputs": [],
   "source": []
  },
  {
   "cell_type": "code",
   "execution_count": null,
   "id": "1c5db12a",
   "metadata": {},
   "outputs": [],
   "source": []
  },
  {
   "cell_type": "code",
   "execution_count": null,
   "id": "afe0593b",
   "metadata": {},
   "outputs": [],
   "source": []
  },
  {
   "cell_type": "code",
   "execution_count": null,
   "id": "9a77a3fb",
   "metadata": {},
   "outputs": [],
   "source": []
  },
  {
   "cell_type": "code",
   "execution_count": null,
   "id": "c006fa6f",
   "metadata": {},
   "outputs": [],
   "source": []
  },
  {
   "cell_type": "code",
   "execution_count": null,
   "id": "7cada591",
   "metadata": {},
   "outputs": [],
   "source": []
  },
  {
   "cell_type": "code",
   "execution_count": null,
   "id": "6482073d",
   "metadata": {},
   "outputs": [],
   "source": []
  },
  {
   "cell_type": "code",
   "execution_count": null,
   "id": "f4b60701",
   "metadata": {},
   "outputs": [],
   "source": []
  },
  {
   "cell_type": "code",
   "execution_count": null,
   "id": "9af61036",
   "metadata": {},
   "outputs": [],
   "source": []
  },
  {
   "cell_type": "code",
   "execution_count": null,
   "id": "ce2d6f0e",
   "metadata": {},
   "outputs": [],
   "source": []
  },
  {
   "cell_type": "code",
   "execution_count": null,
   "id": "daddfc5a",
   "metadata": {},
   "outputs": [],
   "source": []
  },
  {
   "cell_type": "code",
   "execution_count": null,
   "id": "c06ea179",
   "metadata": {},
   "outputs": [],
   "source": []
  },
  {
   "cell_type": "code",
   "execution_count": null,
   "id": "fe14815f",
   "metadata": {},
   "outputs": [],
   "source": []
  },
  {
   "cell_type": "code",
   "execution_count": null,
   "id": "5f3ee9f5",
   "metadata": {},
   "outputs": [],
   "source": []
  },
  {
   "cell_type": "code",
   "execution_count": null,
   "id": "5892490c",
   "metadata": {},
   "outputs": [],
   "source": []
  },
  {
   "cell_type": "code",
   "execution_count": null,
   "id": "be5a42f7",
   "metadata": {},
   "outputs": [],
   "source": []
  },
  {
   "cell_type": "code",
   "execution_count": null,
   "id": "f212b806",
   "metadata": {},
   "outputs": [],
   "source": []
  },
  {
   "cell_type": "code",
   "execution_count": null,
   "id": "b4547c36",
   "metadata": {},
   "outputs": [],
   "source": []
  },
  {
   "cell_type": "code",
   "execution_count": null,
   "id": "4d4df535",
   "metadata": {},
   "outputs": [],
   "source": []
  },
  {
   "cell_type": "code",
   "execution_count": null,
   "id": "d7f559f1",
   "metadata": {},
   "outputs": [],
   "source": []
  },
  {
   "cell_type": "code",
   "execution_count": null,
   "id": "6240d35c",
   "metadata": {},
   "outputs": [],
   "source": []
  },
  {
   "cell_type": "code",
   "execution_count": null,
   "id": "e7818465",
   "metadata": {},
   "outputs": [],
   "source": []
  },
  {
   "cell_type": "code",
   "execution_count": null,
   "id": "0e8cfd4f",
   "metadata": {},
   "outputs": [],
   "source": []
  },
  {
   "cell_type": "code",
   "execution_count": null,
   "id": "b9c8b5f2",
   "metadata": {},
   "outputs": [],
   "source": []
  }
 ],
 "metadata": {
  "kernelspec": {
   "display_name": "Python 3 (ipykernel)",
   "language": "python",
   "name": "python3"
  },
  "language_info": {
   "codemirror_mode": {
    "name": "ipython",
    "version": 3
   },
   "file_extension": ".py",
   "mimetype": "text/x-python",
   "name": "python",
   "nbconvert_exporter": "python",
   "pygments_lexer": "ipython3",
   "version": "3.9.12"
  }
 },
 "nbformat": 4,
 "nbformat_minor": 5
}
