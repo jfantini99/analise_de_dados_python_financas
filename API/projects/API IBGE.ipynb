{
 "cells": [
  {
   "cell_type": "markdown",
   "metadata": {},
   "source": [
    "# API do IBGE\n",
    "\n",
    " \n",
    "### Documentação geral\n",
    "\n",
    "https://servicodados.ibge.gov.br/api/docs\n"
   ]
  },
  {
   "cell_type": "markdown",
   "metadata": {},
   "source": [
    "# Projeção populacional por país ou regiões\n",
    "\n",
    "\n",
    "## URL Base\n",
    "\n",
    "https://servicodados.ibge.gov.br/api/v1/projecoes/populacao/{localidade}\n",
    "\n",
    "\n",
    "\n",
    "    * País: BR\n",
    "    * Regiões: \n",
    "        ** 1 - Norte\n",
    "        ** 2 - Nordeste\n",
    "        ** 3 - Sudeste\n",
    "        ** 4 - Sul\n",
    "        ** 5 - Centro-Oeste"
   ]
  },
  {
   "cell_type": "code",
   "execution_count": null,
   "metadata": {},
   "outputs": [],
   "source": [
    "import requests\n",
    "import pandas as pd\n",
    "import json"
   ]
  },
  {
   "cell_type": "code",
   "execution_count": null,
   "metadata": {
    "scrolled": true
   },
   "outputs": [],
   "source": [
    "localidade = 'BR'\n",
    "url = f'https://servicodados.ibge.gov.br/api/v1/projecoes/populacao/{localidade}'\n",
    "\n",
    "response = requests.get(url)\n",
    "data = json.loads(response.text)\n",
    "data"
   ]
  },
  {
   "cell_type": "markdown",
   "metadata": {},
   "source": [
    "# Indicadores econômicos por país\n",
    "\n",
    "\n",
    "\n",
    "## URL Base\n",
    "\n",
    "https://servicodados.ibge.gov.br/api/v1/paises/{paises}/indicadores/{indicadores}\n",
    "\n"
   ]
  },
  {
   "cell_type": "code",
   "execution_count": null,
   "metadata": {
    "scrolled": true
   },
   "outputs": [],
   "source": [
    "paises = 'BR|US'\n",
    "indicadores = '77823' #PIB per capita\n",
    "nome_pais = ['Brasil', 'EUA']\n",
    "\n",
    "\n",
    "url = f'https://servicodados.ibge.gov.br/api/v1/paises/{paises}/indicadores/{indicadores}'\n",
    "\n",
    "response = requests.get(url)\n",
    "data = json.loads(response.text)\n",
    "\n",
    "lista_dfs = []\n",
    "\n",
    "for i, nome_pais in enumerate(nome_pais):\n",
    "    \n",
    "    lista_anos = []\n",
    "    lista_valores = []\n",
    "\n",
    "    for informacoes in data[0]['series'][i]['serie']: #no lugar desse \"0\", caso você puxe dois indicadores ao mesmo tempo, vai entrar um outro loop.\n",
    "\n",
    "        valores = list(informacoes.items())\n",
    "        lista_anos.append(valores[0][0])\n",
    "        lista_valores.append(valores[0][1])\n",
    "\n",
    "    df = pd.DataFrame(list(zip(lista_anos,lista_valores)), columns=[\"Anos\",f\"{nome_pais}\"]).dropna()\n",
    "\n",
    "    lista_dfs.append(df)\n",
    "    \n",
    "df_final = pd.merge(lista_dfs[0],lista_dfs[1], on='Anos')\n",
    "df_final = df_final.set_index(\"Anos\")\n",
    "df_final = df_final.applymap(lambda x: int(x))\n",
    "\n",
    "display(df_final)"
   ]
  },
  {
   "cell_type": "code",
   "execution_count": null,
   "metadata": {},
   "outputs": [],
   "source": [
    "data"
   ]
  },
  {
   "cell_type": "code",
   "execution_count": null,
   "metadata": {},
   "outputs": [],
   "source": [
    "df_final['eua_maior'] = df_final['EUA']/df_final['Brasil']\n",
    "\n",
    "df_final"
   ]
  }
 ],
 "metadata": {
  "kernelspec": {
   "display_name": "Python 3 (ipykernel)",
   "language": "python",
   "name": "python3"
  },
  "language_info": {
   "codemirror_mode": {
    "name": "ipython",
    "version": 3
   },
   "file_extension": ".py",
   "mimetype": "text/x-python",
   "name": "python",
   "nbconvert_exporter": "python",
   "pygments_lexer": "ipython3",
   "version": "3.9.12"
  },
  "vscode": {
   "interpreter": {
    "hash": "aad1452935e8f9322391ac88d50e3dbc251c2a64a949c6da700cb891a7ee67b8"
   }
  }
 },
 "nbformat": 4,
 "nbformat_minor": 2
}
