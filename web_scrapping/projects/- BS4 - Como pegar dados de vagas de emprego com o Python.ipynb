{
 "cells": [
  {
   "cell_type": "markdown",
   "id": "2d32951e",
   "metadata": {},
   "source": [
    "# Mundo 3 - BS4: Pegando dados de vagas de emprego com o Python"
   ]
  },
  {
   "cell_type": "code",
   "execution_count": null,
   "id": "d355931e",
   "metadata": {},
   "outputs": [],
   "source": [
    "!pip install beautifulsoup4"
   ]
  },
  {
   "cell_type": "code",
   "execution_count": null,
   "id": "90d062eb",
   "metadata": {},
   "outputs": [],
   "source": [
    "!pip install lxml"
   ]
  },
  {
   "cell_type": "markdown",
   "id": "99080f6b",
   "metadata": {},
   "source": [
    "# O beautifulsoup\n",
    "\n",
    "* Esse é o pacote mais simples pra web scraping.\n",
    "* Geralmente ele é utilizado como pacote auxiliar e em conjunto com requests/selenium.\n",
    "* Esse pacote só serve pra sites simples.\n",
    "* Eu particulamente prefiro usar o Selenium, embora a performance do BS4 seja muito superior quando ele consegue ser usado sozinho."
   ]
  },
  {
   "cell_type": "code",
   "execution_count": null,
   "id": "17378695",
   "metadata": {},
   "outputs": [],
   "source": [
    "import requests \n",
    "from bs4 import BeautifulSoup\n",
    "from pprint import pprint\n",
    "import pandas as pd"
   ]
  },
  {
   "cell_type": "code",
   "execution_count": null,
   "id": "f161ea26",
   "metadata": {},
   "outputs": [],
   "source": [
    "response = requests.get('''\n",
    "https://pt.wikipedia.org/wiki/Popula%C3%A7%C3%A3o_mundial''')\n",
    "\n",
    "response.text"
   ]
  },
  {
   "cell_type": "code",
   "execution_count": null,
   "id": "983ea6cc",
   "metadata": {},
   "outputs": [],
   "source": [
    "response = requests.get('''\n",
    "https://pt.wikipedia.org/wiki/Popula%C3%A7%C3%A3o_mundial''') #vai carregar a pagina\n",
    "\n",
    "soup = BeautifulSoup(response.text, 'html.parser') #transformar o html da pagina em um objeto do soup\n",
    "\n",
    "tabela = soup.find(\"table\") #achar o que você precisa. acabou. \n",
    "\n",
    "df = pd.read_html(str(tabela))[0]#n pode esquecer do STR!! \n",
    "\n",
    "display(df)\n",
    "#sempre utilizaremos o pandas pra pegar dados de tabelas"
   ]
  },
  {
   "cell_type": "code",
   "execution_count": null,
   "id": "ba06a60a",
   "metadata": {},
   "outputs": [],
   "source": [
    "url_vagas = '''https://www.timesjobs.com/candidate/job-search.html?\n",
    "searchType=personalizedSearch&from=submit&txtKeywords=python&txtLocation='''\n",
    "\n",
    "response = requests.get(url_vagas)\n",
    "\n",
    "soup = BeautifulSoup(response.text, 'html.parser')\n",
    "\n",
    "lista_vagas = soup.find_all(\"li\", class_ = '''clearfix job-bx wht-shd-bx''') \n",
    "\n",
    "pprint(lista_vagas)"
   ]
  },
  {
   "cell_type": "code",
   "execution_count": null,
   "id": "da2784e9",
   "metadata": {},
   "outputs": [],
   "source": [
    "lista_dfs = []\n",
    "\n",
    "for vaga in lista_vagas:\n",
    "    \n",
    "    \n",
    "    empresa = vaga.h3.text.replace(\" \", \"\").strip()\n",
    "    requesitos = vaga.find('span', class_ = 'srp-skills').text.replace(\" \", \"\").strip()\n",
    "    data_publicacao = vaga.find('span', class_ = 'sim-posted').span.text\n",
    "    \n",
    "    df = pd.DataFrame({'empresa': empresa,\n",
    "                      'requesitos': requesitos,\n",
    "                      'data_publicacao': data_publicacao},\n",
    "                     index = [0])\n",
    "    \n",
    "    lista_dfs.append(df)\n",
    "    \n",
    "\n",
    "tabela_vagas = pd.concat(lista_dfs, ignore_index = True)\n",
    "\n",
    "tabela_vagas"
   ]
  },
  {
   "cell_type": "markdown",
   "id": "a2d4a5ef",
   "metadata": {},
   "source": [
    "# Exercícios \n",
    "\n",
    "* Exercício 141: Colete os dados de população por município no Brasil no site da Wikipedia. "
   ]
  },
  {
   "cell_type": "code",
   "execution_count": null,
   "id": "7aca0508",
   "metadata": {},
   "outputs": [],
   "source": []
  },
  {
   "cell_type": "code",
   "execution_count": null,
   "id": "8c78f212",
   "metadata": {},
   "outputs": [],
   "source": []
  },
  {
   "cell_type": "code",
   "execution_count": null,
   "id": "81a7b194",
   "metadata": {},
   "outputs": [],
   "source": []
  },
  {
   "cell_type": "code",
   "execution_count": null,
   "id": "8280aff2",
   "metadata": {
    "scrolled": true
   },
   "outputs": [],
   "source": [
    "#gabarito 141\n",
    "\n",
    "url = 'https://pt.wikipedia.org/wiki/Lista_de_munic%C3%ADpios_do_Brasil_por_popula%C3%A7%C3%A3o'\n",
    "\n",
    "response = requests.get(url)\n",
    "\n",
    "soup = BeautifulSoup(response.text, 'lxml')\n",
    "\n",
    "municipios_html = soup.find(\"table\") \n",
    "\n",
    "tabela_municipios = pd.read_html(str(municipios_html))[0]\n",
    "\n",
    "tabela_municipios"
   ]
  },
  {
   "cell_type": "code",
   "execution_count": null,
   "id": "8ef97094",
   "metadata": {},
   "outputs": [],
   "source": []
  },
  {
   "cell_type": "code",
   "execution_count": null,
   "id": "9efbd855",
   "metadata": {},
   "outputs": [],
   "source": []
  },
  {
   "cell_type": "code",
   "execution_count": null,
   "id": "a7ef0a92",
   "metadata": {},
   "outputs": [],
   "source": []
  }
 ],
 "metadata": {
  "kernelspec": {
   "display_name": "Python 3 (ipykernel)",
   "language": "python",
   "name": "python3"
  },
  "language_info": {
   "codemirror_mode": {
    "name": "ipython",
    "version": 3
   },
   "file_extension": ".py",
   "mimetype": "text/x-python",
   "name": "python",
   "nbconvert_exporter": "python",
   "pygments_lexer": "ipython3",
   "version": "3.9.12"
  }
 },
 "nbformat": 4,
 "nbformat_minor": 5
}
